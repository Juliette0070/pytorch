{
 "cells": [
  {
   "cell_type": "code",
   "execution_count": 169,
   "metadata": {},
   "outputs": [],
   "source": [
    "import numpy as np\n",
    "import torch"
   ]
  },
  {
   "cell_type": "code",
   "execution_count": 170,
   "metadata": {},
   "outputs": [],
   "source": [
    "W1 = torch.from_numpy(np.array([[0., 1.], [0., -1.]]))\n",
    "W2 = torch.from_numpy(np.array([[1., 2.], [2., -1.]]))\n",
    "\n",
    "W1.requires_grad = True\n",
    "W2.requires_grad = True\n",
    "\n",
    "x = torch.from_numpy(np.array([1., 1.]))\n",
    "y = torch.from_numpy(np.array([1., 0.]))"
   ]
  },
  {
   "cell_type": "code",
   "execution_count": 171,
   "metadata": {},
   "outputs": [],
   "source": [
    "def forward_pass(W1, W2, x):\n",
    "    u1 = torch.matmul(W1, x)\n",
    "    u2 = torch.relu(u1)\n",
    "    u3 = torch.matmul(W2, u2)\n",
    "    # h = torch.softmax(u3, dim=0)\n",
    "    return u3"
   ]
  },
  {
   "cell_type": "code",
   "execution_count": 172,
   "metadata": {},
   "outputs": [],
   "source": [
    "loss_fn = torch.nn.CrossEntropyLoss()"
   ]
  },
  {
   "cell_type": "code",
   "execution_count": 173,
   "metadata": {},
   "outputs": [
    {
     "name": "stdout",
     "output_type": "stream",
     "text": [
      "0 tensor(1.3133, dtype=torch.float64, grad_fn=<DivBackward1>)\n",
      "1 tensor(1.1226, dtype=torch.float64, grad_fn=<DivBackward1>)\n",
      "2 tensor(1.0027, dtype=torch.float64, grad_fn=<DivBackward1>)\n",
      "3 tensor(0.9227, dtype=torch.float64, grad_fn=<DivBackward1>)\n",
      "4 tensor(0.8670, dtype=torch.float64, grad_fn=<DivBackward1>)\n",
      "5 tensor(0.8268, dtype=torch.float64, grad_fn=<DivBackward1>)\n",
      "6 tensor(0.7971, dtype=torch.float64, grad_fn=<DivBackward1>)\n",
      "7 tensor(0.7747, dtype=torch.float64, grad_fn=<DivBackward1>)\n",
      "8 tensor(0.7576, dtype=torch.float64, grad_fn=<DivBackward1>)\n",
      "9 tensor(0.7443, dtype=torch.float64, grad_fn=<DivBackward1>)\n",
      "10 tensor(0.7339, dtype=torch.float64, grad_fn=<DivBackward1>)\n",
      "11 tensor(0.7258, dtype=torch.float64, grad_fn=<DivBackward1>)\n",
      "12 tensor(0.7193, dtype=torch.float64, grad_fn=<DivBackward1>)\n",
      "13 tensor(0.7142, dtype=torch.float64, grad_fn=<DivBackward1>)\n",
      "14 tensor(0.7100, dtype=torch.float64, grad_fn=<DivBackward1>)\n",
      "15 tensor(0.7068, dtype=torch.float64, grad_fn=<DivBackward1>)\n",
      "16 tensor(0.7041, dtype=torch.float64, grad_fn=<DivBackward1>)\n",
      "17 tensor(0.7020, dtype=torch.float64, grad_fn=<DivBackward1>)\n",
      "18 tensor(0.7003, dtype=torch.float64, grad_fn=<DivBackward1>)\n",
      "19 tensor(0.6989, dtype=torch.float64, grad_fn=<DivBackward1>)\n",
      "20 tensor(0.6978, dtype=torch.float64, grad_fn=<DivBackward1>)\n",
      "21 tensor(0.6969, dtype=torch.float64, grad_fn=<DivBackward1>)\n",
      "22 tensor(0.6962, dtype=torch.float64, grad_fn=<DivBackward1>)\n",
      "23 tensor(0.6956, dtype=torch.float64, grad_fn=<DivBackward1>)\n",
      "24 tensor(0.6952, dtype=torch.float64, grad_fn=<DivBackward1>)\n",
      "25 tensor(0.6948, dtype=torch.float64, grad_fn=<DivBackward1>)\n",
      "26 tensor(0.6945, dtype=torch.float64, grad_fn=<DivBackward1>)\n",
      "27 tensor(0.6942, dtype=torch.float64, grad_fn=<DivBackward1>)\n",
      "28 tensor(0.6940, dtype=torch.float64, grad_fn=<DivBackward1>)\n",
      "29 tensor(0.6938, dtype=torch.float64, grad_fn=<DivBackward1>)\n",
      "30 tensor(0.6937, dtype=torch.float64, grad_fn=<DivBackward1>)\n",
      "31 tensor(0.6936, dtype=torch.float64, grad_fn=<DivBackward1>)\n",
      "32 tensor(0.6935, dtype=torch.float64, grad_fn=<DivBackward1>)\n",
      "33 tensor(0.6934, dtype=torch.float64, grad_fn=<DivBackward1>)\n",
      "34 tensor(0.6934, dtype=torch.float64, grad_fn=<DivBackward1>)\n",
      "35 tensor(0.6933, dtype=torch.float64, grad_fn=<DivBackward1>)\n",
      "36 tensor(0.6933, dtype=torch.float64, grad_fn=<DivBackward1>)\n",
      "37 tensor(0.6933, dtype=torch.float64, grad_fn=<DivBackward1>)\n",
      "38 tensor(0.6933, dtype=torch.float64, grad_fn=<DivBackward1>)\n",
      "39 tensor(0.6932, dtype=torch.float64, grad_fn=<DivBackward1>)\n",
      "40 tensor(0.6932, dtype=torch.float64, grad_fn=<DivBackward1>)\n",
      "41 tensor(0.6932, dtype=torch.float64, grad_fn=<DivBackward1>)\n",
      "42 tensor(0.6932, dtype=torch.float64, grad_fn=<DivBackward1>)\n",
      "43 tensor(0.6932, dtype=torch.float64, grad_fn=<DivBackward1>)\n",
      "44 tensor(0.6932, dtype=torch.float64, grad_fn=<DivBackward1>)\n",
      "45 tensor(0.6932, dtype=torch.float64, grad_fn=<DivBackward1>)\n",
      "46 tensor(0.6932, dtype=torch.float64, grad_fn=<DivBackward1>)\n",
      "47 tensor(0.6932, dtype=torch.float64, grad_fn=<DivBackward1>)\n",
      "48 tensor(0.6932, dtype=torch.float64, grad_fn=<DivBackward1>)\n",
      "49 tensor(0.6932, dtype=torch.float64, grad_fn=<DivBackward1>)\n",
      "50 tensor(0.6932, dtype=torch.float64, grad_fn=<DivBackward1>)\n",
      "51 tensor(0.6932, dtype=torch.float64, grad_fn=<DivBackward1>)\n",
      "52 tensor(0.6932, dtype=torch.float64, grad_fn=<DivBackward1>)\n",
      "53 tensor(0.6932, dtype=torch.float64, grad_fn=<DivBackward1>)\n",
      "54 tensor(0.6932, dtype=torch.float64, grad_fn=<DivBackward1>)\n",
      "55 tensor(0.6932, dtype=torch.float64, grad_fn=<DivBackward1>)\n",
      "56 tensor(0.6931, dtype=torch.float64, grad_fn=<DivBackward1>)\n",
      "57 tensor(0.6931, dtype=torch.float64, grad_fn=<DivBackward1>)\n",
      "58 tensor(0.6931, dtype=torch.float64, grad_fn=<DivBackward1>)\n",
      "59 tensor(0.6931, dtype=torch.float64, grad_fn=<DivBackward1>)\n"
     ]
    }
   ],
   "source": [
    "lr = 0.1\n",
    "\n",
    "for t in range(60):\n",
    "    y_pred = forward_pass(W1, W2, x)\n",
    "    erreur = loss_fn(y_pred, y)\n",
    "    print(t, erreur)\n",
    "\n",
    "    W1.grad = None\n",
    "    W2.grad = None\n",
    "\n",
    "    erreur.backward()\n",
    "\n",
    "    with torch.no_grad():\n",
    "        # print(W1.grad)\n",
    "        # print(W2.grad)\n",
    "        W1 -= lr * W1.grad\n",
    "        W2 -= lr * W2.grad\n",
    "        # print(W1)\n",
    "        # print(W2)"
   ]
  }
 ],
 "metadata": {
  "kernelspec": {
   "display_name": "env",
   "language": "python",
   "name": "python3"
  },
  "language_info": {
   "codemirror_mode": {
    "name": "ipython",
    "version": 3
   },
   "file_extension": ".py",
   "mimetype": "text/x-python",
   "name": "python",
   "nbconvert_exporter": "python",
   "pygments_lexer": "ipython3",
   "version": "3.12.3"
  }
 },
 "nbformat": 4,
 "nbformat_minor": 2
}
