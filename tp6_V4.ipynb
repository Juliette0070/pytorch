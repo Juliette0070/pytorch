{
 "cells": [
  {
   "cell_type": "code",
   "execution_count": 38,
   "metadata": {},
   "outputs": [],
   "source": [
    "import numpy as np\n",
    "import torch\n",
    "from utils import load_data2, pre_processing, encode_attributs_category, convert_to_tensor\n",
    "\n",
    "# Chargement des données\n",
    "train_data, test_data = load_data2()\n",
    "\n",
    "# Préparation des données\n",
    "X_train, y_train, X_test, y_test = pre_processing(train_data, test_data)\n",
    "\n",
    "# Encodage des variables catégorielles\n",
    "X_train, y_train, X_test, y_test = encode_attributs_category(X_train, y_train, X_test, y_test)\n",
    "\n",
    "# Conversion en tenseurs PyTorch\n",
    "X_train_tensor, y_train_tensor, X_test_tensor, y_test_tensor = convert_to_tensor(X_train, y_train, X_test, y_test)\n"
   ]
  },
  {
   "cell_type": "code",
   "execution_count": 39,
   "metadata": {},
   "outputs": [
    {
     "data": {
      "text/plain": [
       "(21115, 14)"
      ]
     },
     "execution_count": 39,
     "metadata": {},
     "output_type": "execute_result"
    }
   ],
   "source": [
    "train_data.shape"
   ]
  },
  {
   "cell_type": "code",
   "execution_count": 40,
   "metadata": {},
   "outputs": [],
   "source": [
    "W1 = torch.from_numpy(np.array([[0., 1.], [0., -1.]])).type(torch.float)\n",
    "W2 = torch.from_numpy(np.array([[1., 2.], [2., -1.]])).type(torch.float)\n",
    "\n",
    "x = torch.from_numpy(np.array([1., 1.])).type(torch.float)\n",
    "y = torch.from_numpy(np.array([1., 0.])).type(torch.float)\n",
    "\n",
    "lr = 0.0001"
   ]
  },
  {
   "cell_type": "code",
   "execution_count": 41,
   "metadata": {},
   "outputs": [],
   "source": [
    "model = torch.nn.Sequential(\n",
    "    torch.nn.Linear(13, 5),\n",
    "    torch.nn.ReLU(),\n",
    "    torch.nn.Linear(5, 2)\n",
    ")"
   ]
  },
  {
   "cell_type": "code",
   "execution_count": 42,
   "metadata": {},
   "outputs": [],
   "source": [
    "loss_fn = torch.nn.CrossEntropyLoss()\n",
    "\n",
    "optimizer = torch.optim.SGD(model.parameters(), lr=lr)"
   ]
  },
  {
   "cell_type": "code",
   "execution_count": 44,
   "metadata": {},
   "outputs": [
    {
     "name": "stdout",
     "output_type": "stream",
     "text": [
      "0 tensor(0.5887, grad_fn=<DivBackward1>)\n",
      "1 tensor(0.5887, grad_fn=<DivBackward1>)\n",
      "2 tensor(0.5887, grad_fn=<DivBackward1>)\n",
      "3 tensor(0.5887, grad_fn=<DivBackward1>)\n",
      "4 tensor(0.5887, grad_fn=<DivBackward1>)\n",
      "5 tensor(0.5887, grad_fn=<DivBackward1>)\n",
      "6 tensor(0.5887, grad_fn=<DivBackward1>)\n",
      "7 tensor(0.5887, grad_fn=<DivBackward1>)\n",
      "8 tensor(0.5887, grad_fn=<DivBackward1>)\n",
      "9 tensor(0.5887, grad_fn=<DivBackward1>)\n",
      "10 tensor(0.5887, grad_fn=<DivBackward1>)\n",
      "11 tensor(0.5887, grad_fn=<DivBackward1>)\n",
      "12 tensor(0.5887, grad_fn=<DivBackward1>)\n",
      "13 tensor(0.5887, grad_fn=<DivBackward1>)\n",
      "14 tensor(0.5887, grad_fn=<DivBackward1>)\n",
      "15 tensor(0.5887, grad_fn=<DivBackward1>)\n",
      "16 tensor(0.5887, grad_fn=<DivBackward1>)\n",
      "17 tensor(0.5887, grad_fn=<DivBackward1>)\n",
      "18 tensor(0.5887, grad_fn=<DivBackward1>)\n",
      "19 tensor(0.5887, grad_fn=<DivBackward1>)\n",
      "20 tensor(0.5887, grad_fn=<DivBackward1>)\n",
      "21 tensor(0.5887, grad_fn=<DivBackward1>)\n",
      "22 tensor(0.5887, grad_fn=<DivBackward1>)\n",
      "23 tensor(0.5887, grad_fn=<DivBackward1>)\n",
      "24 tensor(0.5887, grad_fn=<DivBackward1>)\n",
      "25 tensor(0.5887, grad_fn=<DivBackward1>)\n",
      "26 tensor(0.5887, grad_fn=<DivBackward1>)\n",
      "27 tensor(0.5886, grad_fn=<DivBackward1>)\n",
      "28 tensor(0.5886, grad_fn=<DivBackward1>)\n",
      "29 tensor(0.5886, grad_fn=<DivBackward1>)\n",
      "30 tensor(0.5886, grad_fn=<DivBackward1>)\n",
      "31 tensor(0.5886, grad_fn=<DivBackward1>)\n",
      "32 tensor(0.5886, grad_fn=<DivBackward1>)\n",
      "33 tensor(0.5886, grad_fn=<DivBackward1>)\n",
      "34 tensor(0.5886, grad_fn=<DivBackward1>)\n",
      "35 tensor(0.5886, grad_fn=<DivBackward1>)\n",
      "36 tensor(0.5886, grad_fn=<DivBackward1>)\n",
      "37 tensor(0.5886, grad_fn=<DivBackward1>)\n",
      "38 tensor(0.5886, grad_fn=<DivBackward1>)\n",
      "39 tensor(0.5886, grad_fn=<DivBackward1>)\n",
      "40 tensor(0.5886, grad_fn=<DivBackward1>)\n",
      "41 tensor(0.5886, grad_fn=<DivBackward1>)\n",
      "42 tensor(0.5886, grad_fn=<DivBackward1>)\n",
      "43 tensor(0.5886, grad_fn=<DivBackward1>)\n",
      "44 tensor(0.5886, grad_fn=<DivBackward1>)\n",
      "45 tensor(0.5886, grad_fn=<DivBackward1>)\n",
      "46 tensor(0.5886, grad_fn=<DivBackward1>)\n",
      "47 tensor(0.5886, grad_fn=<DivBackward1>)\n",
      "48 tensor(0.5886, grad_fn=<DivBackward1>)\n",
      "49 tensor(0.5886, grad_fn=<DivBackward1>)\n",
      "50 tensor(0.5886, grad_fn=<DivBackward1>)\n",
      "51 tensor(0.5886, grad_fn=<DivBackward1>)\n",
      "52 tensor(0.5886, grad_fn=<DivBackward1>)\n",
      "53 tensor(0.5886, grad_fn=<DivBackward1>)\n",
      "54 tensor(0.5886, grad_fn=<DivBackward1>)\n",
      "55 tensor(0.5886, grad_fn=<DivBackward1>)\n",
      "56 tensor(0.5886, grad_fn=<DivBackward1>)\n",
      "57 tensor(0.5886, grad_fn=<DivBackward1>)\n",
      "58 tensor(0.5886, grad_fn=<DivBackward1>)\n",
      "59 tensor(0.5886, grad_fn=<DivBackward1>)\n"
     ]
    }
   ],
   "source": [
    "for t in range(60):\n",
    "    optimizer.zero_grad()\n",
    "    y_pred = model(X_train_tensor)\n",
    "    erreur = loss_fn(y_pred, y_train_tensor)\n",
    "    print(t, erreur)\n",
    "    erreur.backward()\n",
    "    optimizer.step()"
   ]
  }
 ],
 "metadata": {
  "kernelspec": {
   "display_name": "Python 3",
   "language": "python",
   "name": "python3"
  },
  "language_info": {
   "codemirror_mode": {
    "name": "ipython",
    "version": 3
   },
   "file_extension": ".py",
   "mimetype": "text/x-python",
   "name": "python",
   "nbconvert_exporter": "python",
   "pygments_lexer": "ipython3",
   "version": "3.10.2"
  }
 },
 "nbformat": 4,
 "nbformat_minor": 2
}
