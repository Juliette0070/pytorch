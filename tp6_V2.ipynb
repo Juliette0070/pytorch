{
 "cells": [
  {
   "cell_type": "code",
   "execution_count": 1,
   "metadata": {},
   "outputs": [],
   "source": [
    "import numpy as np\n",
    "import torch"
   ]
  },
  {
   "cell_type": "code",
   "execution_count": 2,
   "metadata": {},
   "outputs": [],
   "source": [
    "W1 = torch.from_numpy(np.array([[0., 1.], [0., -1.]])).type(torch.float)\n",
    "W2 = torch.from_numpy(np.array([[1., 2.], [2., -1.]])).type(torch.float)\n",
    "\n",
    "x = torch.from_numpy(np.array([1., 1.])).type(torch.float)\n",
    "y = torch.from_numpy(np.array([1., 0.])).type(torch.float)\n",
    "\n",
    "lr = 0.01"
   ]
  },
  {
   "cell_type": "code",
   "execution_count": 3,
   "metadata": {},
   "outputs": [],
   "source": [
    "model = torch.nn.Sequential(\n",
    "    torch.nn.Linear(2, 2, bias=False),\n",
    "    torch.nn.ReLU(),\n",
    "    torch.nn.Linear(2, 2, bias=False)\n",
    ")\n",
    "\n",
    "with torch.no_grad():\n",
    "    model[0].weight.copy_(W1)\n",
    "    model[2].weight.copy_(W2)"
   ]
  },
  {
   "cell_type": "code",
   "execution_count": 4,
   "metadata": {},
   "outputs": [],
   "source": [
    "loss_fn = torch.nn.CrossEntropyLoss()\n",
    "\n",
    "optimizer = torch.optim.SGD(model.parameters(), lr=lr)"
   ]
  },
  {
   "cell_type": "code",
   "execution_count": 5,
   "metadata": {},
   "outputs": [
    {
     "name": "stdout",
     "output_type": "stream",
     "text": [
      "0 tensor(1.3133, grad_fn=<DivBackward1>)\n",
      "1 tensor(1.2921, grad_fn=<DivBackward1>)\n",
      "2 tensor(1.2719, grad_fn=<DivBackward1>)\n",
      "3 tensor(1.2526, grad_fn=<DivBackward1>)\n",
      "4 tensor(1.2341, grad_fn=<DivBackward1>)\n",
      "5 tensor(1.2164, grad_fn=<DivBackward1>)\n",
      "6 tensor(1.1995, grad_fn=<DivBackward1>)\n",
      "7 tensor(1.1832, grad_fn=<DivBackward1>)\n",
      "8 tensor(1.1676, grad_fn=<DivBackward1>)\n",
      "9 tensor(1.1527, grad_fn=<DivBackward1>)\n",
      "10 tensor(1.1384, grad_fn=<DivBackward1>)\n",
      "11 tensor(1.1246, grad_fn=<DivBackward1>)\n",
      "12 tensor(1.1114, grad_fn=<DivBackward1>)\n",
      "13 tensor(1.0987, grad_fn=<DivBackward1>)\n",
      "14 tensor(1.0865, grad_fn=<DivBackward1>)\n",
      "15 tensor(1.0747, grad_fn=<DivBackward1>)\n",
      "16 tensor(1.0635, grad_fn=<DivBackward1>)\n",
      "17 tensor(1.0526, grad_fn=<DivBackward1>)\n",
      "18 tensor(1.0421, grad_fn=<DivBackward1>)\n",
      "19 tensor(1.0320, grad_fn=<DivBackward1>)\n",
      "20 tensor(1.0223, grad_fn=<DivBackward1>)\n",
      "21 tensor(1.0130, grad_fn=<DivBackward1>)\n",
      "22 tensor(1.0039, grad_fn=<DivBackward1>)\n",
      "23 tensor(0.9952, grad_fn=<DivBackward1>)\n",
      "24 tensor(0.9868, grad_fn=<DivBackward1>)\n",
      "25 tensor(0.9787, grad_fn=<DivBackward1>)\n",
      "26 tensor(0.9708, grad_fn=<DivBackward1>)\n",
      "27 tensor(0.9633, grad_fn=<DivBackward1>)\n",
      "28 tensor(0.9560, grad_fn=<DivBackward1>)\n",
      "29 tensor(0.9489, grad_fn=<DivBackward1>)\n",
      "30 tensor(0.9420, grad_fn=<DivBackward1>)\n",
      "31 tensor(0.9354, grad_fn=<DivBackward1>)\n",
      "32 tensor(0.9290, grad_fn=<DivBackward1>)\n",
      "33 tensor(0.9228, grad_fn=<DivBackward1>)\n",
      "34 tensor(0.9168, grad_fn=<DivBackward1>)\n",
      "35 tensor(0.9110, grad_fn=<DivBackward1>)\n",
      "36 tensor(0.9054, grad_fn=<DivBackward1>)\n",
      "37 tensor(0.8999, grad_fn=<DivBackward1>)\n",
      "38 tensor(0.8946, grad_fn=<DivBackward1>)\n",
      "39 tensor(0.8895, grad_fn=<DivBackward1>)\n",
      "40 tensor(0.8846, grad_fn=<DivBackward1>)\n",
      "41 tensor(0.8797, grad_fn=<DivBackward1>)\n",
      "42 tensor(0.8751, grad_fn=<DivBackward1>)\n",
      "43 tensor(0.8705, grad_fn=<DivBackward1>)\n",
      "44 tensor(0.8661, grad_fn=<DivBackward1>)\n",
      "45 tensor(0.8619, grad_fn=<DivBackward1>)\n",
      "46 tensor(0.8577, grad_fn=<DivBackward1>)\n",
      "47 tensor(0.8537, grad_fn=<DivBackward1>)\n",
      "48 tensor(0.8498, grad_fn=<DivBackward1>)\n",
      "49 tensor(0.8460, grad_fn=<DivBackward1>)\n",
      "50 tensor(0.8423, grad_fn=<DivBackward1>)\n",
      "51 tensor(0.8387, grad_fn=<DivBackward1>)\n",
      "52 tensor(0.8352, grad_fn=<DivBackward1>)\n",
      "53 tensor(0.8318, grad_fn=<DivBackward1>)\n",
      "54 tensor(0.8285, grad_fn=<DivBackward1>)\n",
      "55 tensor(0.8253, grad_fn=<DivBackward1>)\n",
      "56 tensor(0.8222, grad_fn=<DivBackward1>)\n",
      "57 tensor(0.8191, grad_fn=<DivBackward1>)\n",
      "58 tensor(0.8162, grad_fn=<DivBackward1>)\n",
      "59 tensor(0.8133, grad_fn=<DivBackward1>)\n"
     ]
    }
   ],
   "source": [
    "for t in range(60):\n",
    "    optimizer.zero_grad()\n",
    "    \n",
    "    y_pred = model(x)\n",
    "    erreur = loss_fn(y_pred, y)\n",
    "    print(t, erreur)\n",
    "\n",
    "    erreur.backward()\n",
    "\n",
    "    optimizer.step()"
   ]
  }
 ],
 "metadata": {
  "kernelspec": {
   "display_name": "env",
   "language": "python",
   "name": "python3"
  },
  "language_info": {
   "codemirror_mode": {
    "name": "ipython",
    "version": 3
   },
   "file_extension": ".py",
   "mimetype": "text/x-python",
   "name": "python",
   "nbconvert_exporter": "python",
   "pygments_lexer": "ipython3",
   "version": "3.12.3"
  }
 },
 "nbformat": 4,
 "nbformat_minor": 2
}
